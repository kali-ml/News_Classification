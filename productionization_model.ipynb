{
 "cells": [
  {
   "cell_type": "markdown",
   "metadata": {},
   "source": [
    "# FAKE AND TRUE NEWS"
   ]
  },
  {
   "cell_type": "code",
   "execution_count": 1,
   "metadata": {},
   "outputs": [
    {
     "name": "stderr",
     "output_type": "stream",
     "text": [
      "Using TensorFlow backend.\n"
     ]
    }
   ],
   "source": [
    "%matplotlib inline\n",
    "import warnings\n",
    "warnings.filterwarnings(\"ignore\")\n",
    "\n",
    "import pandas as pd\n",
    "import numpy as np\n",
    "import matplotlib.pyplot as plt\n",
    "import seaborn as sns\n",
    "import re\n",
    "from scipy.sparse import hstack\n",
    "from datetime import datetime\n",
    "from tensorflow.keras.preprocessing.sequence import pad_sequences\n",
    "from tensorflow.keras.models import load_model\n",
    "from keras.utils import np_utils\n",
    "from sklearn.metrics import confusion_matrix, accuracy_score"
   ]
  },
  {
   "cell_type": "markdown",
   "metadata": {},
   "source": [
    "__All the weights are calculated on only 80% of data.__\n",
    "\n",
    "__I'm using LSTM as best model becuase its test accuracy is 100%.__"
   ]
  },
  {
   "cell_type": "code",
   "execution_count": 2,
   "metadata": {},
   "outputs": [],
   "source": [
    "def decontract_months(phrase):\n",
    "    # specific\n",
    "    #phrase = phrase.lower()\n",
    "    phrase = re.sub(r\"jan\", \"january\", phrase)\n",
    "    phrase = re.sub(r\"feb\", \"february\", phrase)\n",
    "    phrase = re.sub(r\"mar\", \"march\", phrase)\n",
    "    phrase = re.sub(r\"apr\", \"april\", phrase)\n",
    "    phrase = re.sub(r\"jun\", \"june\", phrase)\n",
    "    phrase = re.sub(r\"jul\", \"july\", phrase)\n",
    "    phrase = re.sub(r\"aug\", \"august\", phrase)\n",
    "    phrase = re.sub(r\"sep\", \"september\", phrase)\n",
    "    phrase = re.sub(r\"oct\", \"october\", phrase)\n",
    "    phrase = re.sub(r\"nov\", \"november\", phrase)\n",
    "    phrase = re.sub(r\"dec\", 'december',phrase)\n",
    "    return phrase"
   ]
  },
  {
   "cell_type": "code",
   "execution_count": 3,
   "metadata": {},
   "outputs": [],
   "source": [
    "stopwords= ['i', 'me', 'my', 'myself', 'we', 'our', 'ours', 'ourselves', 'you', \"you're\", \"you've\",\\\n",
    "            \"you'll\", \"you'd\", 'your', 'yours', 'yourself', 'yourselves', 'he', 'him', 'his', 'himself', \\\n",
    "            'she', \"she's\", 'her', 'hers', 'herself', 'it', \"it's\", 'its', 'itself', 'they', 'them', 'their',\\\n",
    "            'theirs', 'themselves', 'what', 'which', 'who', 'whom', 'this', 'that', \"that'll\", 'these', 'those', \\\n",
    "            'am', 'is', 'are', 'was', 'were', 'be', 'been', 'being', 'have', 'has', 'had', 'having', 'do', 'does', \\\n",
    "            'did', 'doing', 'a', 'an', 'the', 'and', 'but', 'if', 'or', 'because', 'as', 'until', 'while', 'of', \\\n",
    "            'at', 'by', 'for', 'with', 'about', 'against', 'between', 'into', 'through', 'during', 'before', 'after',\\\n",
    "            'above', 'below', 'to', 'from', 'up', 'down', 'in', 'out', 'on', 'off', 'over', 'under', 'again', 'further',\\\n",
    "            'then', 'once', 'here', 'there', 'when', 'where', 'why', 'how', 'all', 'any', 'both', 'each', 'few', 'more',\\\n",
    "            'most', 'other', 'some', 'such', 'only', 'own', 'same', 'so', 'than', 'too', 'very', \\\n",
    "            's', 't', 'can', 'will', 'just', 'don', \"don't\", 'should', \"should've\", 'now', 'd', 'll', 'm', 'o', 're', \\\n",
    "            've', 'y', 'ain', 'aren', \"aren't\", 'couldn', \"couldn't\", 'didn', \"didn't\", 'doesn', \"doesn't\", 'hadn',\\\n",
    "            \"hadn't\", 'hasn', \"hasn't\", 'haven', \"haven't\", 'isn', \"isn't\", 'ma', 'mightn', \"mightn't\", 'mustn',\\\n",
    "            \"mustn't\", 'needn', \"needn't\", 'shan', \"shan't\", 'shouldn', \"shouldn't\", 'wasn', \"wasn't\", 'weren', \"weren't\", \\\n",
    "            'won', \"won't\", 'wouldn', \"wouldn't\"]"
   ]
  },
  {
   "cell_type": "code",
   "execution_count": 4,
   "metadata": {},
   "outputs": [],
   "source": [
    "def decontracted(phrase):\n",
    "    # specific\n",
    "    phrase = re.sub(r\"won\\'t\", \"will not\", phrase)\n",
    "    phrase = re.sub(r\"can\\'t\", \"can not\", phrase)\n",
    "\n",
    "    # general\n",
    "    phrase = re.sub(r\"n\\'t\", \" not\", phrase)\n",
    "    phrase = re.sub(r\"\\'re\", \" are\", phrase)\n",
    "    phrase = re.sub(r\"\\'s\", \" is\", phrase)\n",
    "    phrase = re.sub(r\"\\'d\", \" would\", phrase)\n",
    "    phrase = re.sub(r\"\\'ll\", \" will\", phrase)\n",
    "    phrase = re.sub(r\"\\'t\", \" not\", phrase)\n",
    "    phrase = re.sub(r\"\\'ve\", \" have\", phrase)\n",
    "    phrase = re.sub(r\"\\'m\", \" am\", phrase)\n",
    "    return phrase"
   ]
  },
  {
   "cell_type": "markdown",
   "metadata": {},
   "source": [
    "## Preprocessing function"
   ]
  },
  {
   "cell_type": "code",
   "execution_count": 5,
   "metadata": {},
   "outputs": [],
   "source": [
    "def entire_preprocessing(x):\n",
    "    x.drop_duplicates(subset=['text'],keep='first',inplace=True)\n",
    "    if x.isnull() is True:\n",
    "        x.fillna('nan', inplace=True)\n",
    "        \n",
    "    months=['january','february','march','april','may','june','july','august','september','october','november','december']\n",
    "    \n",
    "    preprocessed_date=[]\n",
    "    for sent in x['date'].values:\n",
    "        sent=sent.lower()\n",
    "        if sent.split()[0] not in months:\n",
    "            sent=decontract_months(sent)\n",
    "        sent=re.sub(\"https\\S+\",\"nan\",sent)\n",
    "        sent=sent.replace(',','')\n",
    "        sent='_'.join(e for e in sent.split())\n",
    "        preprocessed_date.append(sent)\n",
    "    x['date']=preprocessed_date\n",
    "    \n",
    "    if x[x['date']=='nan'] is True:\n",
    "        x.drop(x[x['date']=='nan'].index,inplace=True)\n",
    "    \n",
    "    def preprocess_fun(preprocess):\n",
    "        preprocessed_text = []\n",
    "        for sentance in preprocess:\n",
    "            sent = decontracted(sentance)\n",
    "            sent = re.sub('@\\S+', ' ', sent)\n",
    "            sent = re.sub('bit\\S+', ' ', sent)\n",
    "            sent=re.sub('https\\S+',' ',sent)\n",
    "            sent=re.sub('[^A-Za-z0-9]', ' ', sent)\n",
    "            sent = ' '.join(e for e in sent.split() if e.lower() not in stopwords)\n",
    "            preprocessed_text.append(sent)\n",
    "        return preprocessed_text\n",
    "    \n",
    "    x['text']=preprocess_fun(x['text'])\n",
    "    x['title']=preprocess_fun(x['title'])\n",
    "    \n",
    "    return x"
   ]
  },
  {
   "cell_type": "markdown",
   "metadata": {},
   "source": [
    "## Predicting function"
   ]
  },
  {
   "cell_type": "code",
   "execution_count": 6,
   "metadata": {},
   "outputs": [],
   "source": [
    "def predicting_function(x_new):\n",
    "    start = datetime.now()\n",
    "    \n",
    "    x = entire_preprocessing(x_new)# preprocessing of data\n",
    "    \n",
    "    subject = pd.read_pickle(\"data/count_subject.pickle\")\n",
    "    x_subject = subject.transform(x['subject']).toarray()#vectorizing subject data\n",
    "    \n",
    "    date = pd.read_pickle(\"data/count_date.pickle\")\n",
    "    x_date = date.transform(x['date']).toarray()#vectorizing date data\n",
    "    \n",
    "    text = pd.read_pickle(\"data/lstm_text_weight.pickle\")\n",
    "    x_text_encoded = text.texts_to_sequences(x['text'])#vectorizing text data\n",
    "    x_text_padded = pad_sequences(x_text_encoded, maxlen = 500)\n",
    "    \n",
    "    title = pd.read_pickle(\"data/lstm_title_weight.pickle\")\n",
    "    x_title_encoded = title.texts_to_sequences(x['title'])#vectorizing title data\n",
    "    x_title_padded = pad_sequences(x_title_encoded, maxlen = 100)\n",
    "    \n",
    "    \n",
    "    model = load_model(\"lstm_model.h5\")\n",
    "    y = model.predict([x_text_padded, x_title_padded, x_subject, x_date])\n",
    "    \n",
    "    lst=[]\n",
    "    for ele in y:\n",
    "        lst.append(np.argmax(ele))\n",
    "    \n",
    "    print(\"So the total time taken to run this code:\", (datetime.now() - start))\n",
    "    \n",
    "    return np.array(lst)"
   ]
  },
  {
   "cell_type": "markdown",
   "metadata": {},
   "source": [
    "## Metric function"
   ]
  },
  {
   "cell_type": "code",
   "execution_count": 7,
   "metadata": {},
   "outputs": [],
   "source": [
    "def metrics_function(x_new):\n",
    "    start = datetime.now()\n",
    "    \n",
    "    x = entire_preprocessing(x_new)# preprocessing of data\n",
    "    \n",
    "    subject = pd.read_pickle(\"data/count_subject.pickle\")\n",
    "    x_subject = subject.transform(x['subject']).toarray()#vectorizing subject data\n",
    "    \n",
    "    date = pd.read_pickle(\"data/count_date.pickle\")\n",
    "    x_date = date.transform(x['date']).toarray()#vectorizing date data\n",
    "    \n",
    "    text = pd.read_pickle(\"data/lstm_text_weight.pickle\")\n",
    "    x_text_encoded = text.texts_to_sequences(x['text'])#vectorizing text data\n",
    "    x_text_padded = pad_sequences(x_text_encoded, maxlen = 500)\n",
    "    \n",
    "    title = pd.read_pickle(\"data/lstm_title_weight.pickle\")\n",
    "    x_title_encoded = title.texts_to_sequences(x['title'])#vectorizing title data\n",
    "    x_title_padded = pad_sequences(x_title_encoded, maxlen = 100)\n",
    "    \n",
    "    model = load_model(\"lstm_model.h5\")\n",
    "    y = model.predict([x_text_padded, x_title_padded, x_subject, x_date])\n",
    "    \n",
    "    \n",
    "    y_true = x['label']\n",
    "    y_pred=[]\n",
    "    for ele in y:\n",
    "        y_pred.append(np.argmax(ele))\n",
    "        \n",
    "    \n",
    "    print(\"=\"*50)\n",
    "    accuracy = accuracy_score(y_true, y_pred)\n",
    "    print(\"Accuracy: {}%\".format(accuracy*100))\n",
    "    \n",
    "    cm = confusion_matrix(y_true, y_pred)\n",
    "    sns.heatmap(cm,annot=True,fmt='d')\n",
    "    plt.xlabel('predicted')\n",
    "    plt.ylabel('actual')\n",
    "    plt.title(\"Confusion matrix\")\n",
    "    \n",
    "    print(\"=\"*50)\n",
    "    print(\"So the total time taken to run this code:\", (datetime.now() - start))\n",
    "    print(\"=\"*50)"
   ]
  },
  {
   "cell_type": "markdown",
   "metadata": {},
   "source": [
    "## Loading Data"
   ]
  },
  {
   "cell_type": "code",
   "execution_count": 8,
   "metadata": {},
   "outputs": [],
   "source": [
    "#loading fake data\n",
    "fake_data=pd.read_csv('Fake.csv')\n",
    "la=[]\n",
    "for i in range(fake_data.shape[0]):#label = 0 for fake news\n",
    "    la.append(0)\n",
    "la=pd.DataFrame(la)\n",
    "la.columns=['label']\n",
    "df_fake=pd.concat([fake_data,la],axis=1)"
   ]
  },
  {
   "cell_type": "code",
   "execution_count": 9,
   "metadata": {},
   "outputs": [],
   "source": [
    "#loading true data\n",
    "true_data=pd.read_csv('True.csv')\n",
    "lb=[]\n",
    "for i in range(true_data.shape[0]):# label = 1 for true news\n",
    "    lb.append(1)\n",
    "lb=pd.DataFrame(lb)\n",
    "lb.columns=['label']\n",
    "df_true=pd.concat([true_data,lb],axis=1)"
   ]
  },
  {
   "cell_type": "code",
   "execution_count": 10,
   "metadata": {},
   "outputs": [
    {
     "name": "stdout",
     "output_type": "stream",
     "text": [
      "(44898, 5)\n"
     ]
    }
   ],
   "source": [
    "#concatenating true news and fake news\n",
    "final_data=pd.concat([df_true,df_fake],axis=0)#concatenating all the data\n",
    "print(final_data.shape)"
   ]
  },
  {
   "cell_type": "markdown",
   "metadata": {},
   "source": [
    "### Predicting on whole dataset"
   ]
  },
  {
   "cell_type": "code",
   "execution_count": 11,
   "metadata": {},
   "outputs": [
    {
     "name": "stdout",
     "output_type": "stream",
     "text": [
      "So the total time taken to run this code: 0:01:41.142557\n"
     ]
    }
   ],
   "source": [
    "y_pred = predicting_function(final_data)"
   ]
  },
  {
   "cell_type": "code",
   "execution_count": 12,
   "metadata": {},
   "outputs": [
    {
     "name": "stdout",
     "output_type": "stream",
     "text": [
      "[1 1 1 ... 0 0 0]\n"
     ]
    }
   ],
   "source": [
    "print(y_pred)"
   ]
  },
  {
   "cell_type": "markdown",
   "metadata": {},
   "source": [
    "### Performance Metrics"
   ]
  },
  {
   "cell_type": "code",
   "execution_count": 13,
   "metadata": {},
   "outputs": [
    {
     "name": "stdout",
     "output_type": "stream",
     "text": [
      "==================================================\n",
      "Accuracy: 100.0%\n",
      "==================================================\n",
      "So the total time taken to run this code: 0:01:31.591982\n",
      "==================================================\n"
     ]
    },
    {
     "data": {
      "image/png": "[encoded data removed]",
      "text/plain": [
       "<Figure size 432x288 with 2 Axes>"
      ]
     },
     "metadata": {
      "needs_background": "light"
     },
     "output_type": "display_data"
    }
   ],
   "source": [
    "metrics_function(final_data)"
   ]
  },
  {
   "cell_type": "code",
   "execution_count": null,
   "metadata": {},
   "outputs": [],
   "source": []
  }
 ],
 "metadata": {
  "kernelspec": {
   "display_name": "Python 3",
   "language": "python",
   "name": "python3"
  },
  "language_info": {
   "codemirror_mode": {
    "name": "ipython",
    "version": 3
   },
   "file_extension": ".py",
   "mimetype": "text/x-python",
   "name": "python",
   "nbconvert_exporter": "python",
   "pygments_lexer": "ipython3",
   "version": "3.6.5"
  }
 },
 "nbformat": 4,
 "nbformat_minor": 4
}
